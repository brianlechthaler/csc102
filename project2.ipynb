{
 "cells": [
  {
   "cell_type": "markdown",
   "metadata": {},
   "source": [
    "## SuperUltraHap(PY)Craps\n",
    "*Brian Lechthaler*\n",
    "*4-12-19*\n",
    "*CSC102 @ UAT*"
   ]
  },
  {
   "cell_type": "code",
   "execution_count": 1,
   "metadata": {},
   "outputs": [],
   "source": [
    "#Import numpy for mathematic functions\n",
    "# (such as random number generation for dice rolls)\n",
    "#NB: Install numpy with pip if you haven't already\n",
    "import numpy as np"
   ]
  },
  {
   "cell_type": "code",
   "execution_count": 2,
   "metadata": {},
   "outputs": [
    {
     "name": "stdout",
     "output_type": "stream",
     "text": [
      "SuperUltraHap(PY)Craps\n",
      "Brian Lechthaler\n",
      "CSC102\n",
      "\n",
      "\n",
      "[C] to continue.C\n",
      "Let's get it!\n"
     ]
    }
   ],
   "source": [
    "#This confirms the user wants to play the game.\n",
    "print(\"SuperUltraHap(PY)Craps\\nBrian Lechthaler\\nCSC102\\n\\n\")\n",
    "splash = input(\"[C] to continue.\")\n",
    "if(splash == \"C\"):\n",
    "    print(\"Let's get it!\")\n",
    "else:\n",
    "    print(\"Hit [CTRL] + [C] (^C) to quit.\")"
   ]
  },
  {
   "cell_type": "code",
   "execution_count": null,
   "metadata": {},
   "outputs": [
    {
     "name": "stdout",
     "output_type": "stream",
     "text": [
      "Rolling two dice...\n",
      "First die:\n",
      " 2\n",
      "Second die:\n",
      " 2\n",
      "First + Second:\n",
      " 4\n",
      "First - Second:\n",
      " 0\n",
      "First * Second:\n",
      " 4\n",
      "First / Second:\n",
      " 1.0\n",
      "[ANY_KEY] to continue.\n",
      "^C to quit.a\n",
      "Rolling two dice...\n",
      "First die:\n",
      " 2\n",
      "Second die:\n",
      " 5\n",
      "First + Second:\n",
      " 7\n",
      "First - Second:\n",
      " -3\n",
      "First * Second:\n",
      " 10\n",
      "First / Second:\n",
      " 0.4\n"
     ]
    }
   ],
   "source": [
    "while True:\n",
    "    #Roll two dice by generating a number between 1 and 6\n",
    "    print(\"Rolling two dice...\")\n",
    "    diceX = np.random.randint(1,6)\n",
    "    diceY = np.random.randint(1,6)\n",
    "    #Print the values of those dies\n",
    "    print(\"First die:\\n\", diceX)\n",
    "    print(\"Second die:\\n\", diceY)\n",
    "    #Do some simple math as per the rules of the game\n",
    "    sumX = np.add(diceX, diceY)\n",
    "    diffX = np.subtract(diceX, diceY)\n",
    "    prodX = np.multiply(diceX, diceY)\n",
    "    divX = np.divide(diceX, diceY)\n",
    "    #Print out results\n",
    "    print(\"First + Second:\\n\", sumX)\n",
    "    print(\"First - Second:\\n\", diffX)\n",
    "    print(\"First * Second:\\n\", prodX)\n",
    "    print(\"First / Second:\\n\", divX)\n",
    "    #Prompt if the user wants to keep rolling. Variable does nothing.\n",
    "    keepGoing = input(\"[ANY_KEY] to continue.\\n^C to quit.\")\n",
    "    #Let user know they won if winning conditions are met\n",
    "    if(sumX == 7 or sumX == 11):\n",
    "        print(\"Oh, CRAPS!\\nGood game.\")"
   ]
  }
 ],
 "metadata": {
  "kernelspec": {
   "display_name": "Python 3",
   "language": "python",
   "name": "python3"
  },
  "language_info": {
   "codemirror_mode": {
    "name": "ipython",
    "version": 3
   },
   "file_extension": ".py",
   "mimetype": "text/x-python",
   "name": "python",
   "nbconvert_exporter": "python",
   "pygments_lexer": "ipython3",
   "version": "3.7.3"
  }
 },
 "nbformat": 4,
 "nbformat_minor": 2
}
